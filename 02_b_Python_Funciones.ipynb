{
  "nbformat": 4,
  "nbformat_minor": 0,
  "metadata": {
    "colab": {
      "name": "02_b_Python_Funciones.ipynb",
      "provenance": [],
      "collapsed_sections": [],
      "include_colab_link": true
    },
    "kernelspec": {
      "display_name": "Python 3",
      "language": "python",
      "name": "python3"
    }
  },
  "cells": [
    {
      "cell_type": "markdown",
      "metadata": {
        "id": "view-in-github",
        "colab_type": "text"
      },
      "source": [
        "<a href=\"https://colab.research.google.com/github/camilo12369/mlds1/blob/main/02_b_Python_Funciones.ipynb\" target=\"_parent\"><img src=\"https://colab.research.google.com/assets/colab-badge.svg\" alt=\"Open In Colab\"/></a>"
      ]
    },
    {
      "cell_type": "markdown",
      "metadata": {
        "id": "LXlv9Mj9-1QE"
      },
      "source": [
        "# Funciones Python\n",
        "\n",
        "Una función, es la forma de agrupar expresiones para realizar  determinadas acciones. \n",
        "\n",
        "La ejecución de éstas depende que sea llamado el bloque que las define. "
      ]
    },
    {
      "cell_type": "markdown",
      "metadata": {
        "id": "GD0iKA88DclK"
      },
      "source": [
        "## Definición de Funciones\n",
        "\n",
        "En Python, la definición de funciones se realiza mediante la instrucción ``def`` más un nombre de función descriptivo.\n",
        "\n",
        "La definición de la función finaliza con dos puntos (:)\n",
        "\n"
      ]
    },
    {
      "cell_type": "code",
      "metadata": {
        "id": "NyE9YtbaDclK"
      },
      "source": [
        "def imprimir_en_pantalla(parametro1='Por defecto'):\n",
        "    \"\"\"\n",
        "    Aquí irá la documentación\n",
        "    \"\"\"\n",
        "    print(parametro1)"
      ],
      "execution_count": null,
      "outputs": []
    },
    {
      "cell_type": "code",
      "metadata": {
        "id": "7jY8vLLsDclM",
        "colab": {
          "base_uri": "https://localhost:8080/",
          "height": 34
        },
        "outputId": "ed66d2b7-84ca-44d5-e37a-3b568d503c95"
      },
      "source": [
        "imprimir_en_pantalla"
      ],
      "execution_count": null,
      "outputs": [
        {
          "output_type": "execute_result",
          "data": {
            "text/plain": [
              "<function __main__.imprimir_en_pantalla>"
            ]
          },
          "metadata": {
            "tags": []
          },
          "execution_count": 2
        }
      ]
    },
    {
      "cell_type": "code",
      "metadata": {
        "id": "nt34DpTPDclN",
        "colab": {
          "base_uri": "https://localhost:8080/",
          "height": 34
        },
        "outputId": "588f6c1a-390b-457e-9fb4-4429efd5ec50"
      },
      "source": [
        "imprimir_en_pantalla()"
      ],
      "execution_count": null,
      "outputs": [
        {
          "output_type": "stream",
          "text": [
            "Por defecto\n"
          ],
          "name": "stdout"
        }
      ]
    },
    {
      "cell_type": "code",
      "metadata": {
        "id": "BuF7tmG1DclN",
        "colab": {
          "base_uri": "https://localhost:8080/",
          "height": 34
        },
        "outputId": "223ef205-3783-473a-8be7-33052baf149a"
      },
      "source": [
        "imprimir_en_pantalla('nuevo parametro')"
      ],
      "execution_count": null,
      "outputs": [
        {
          "output_type": "stream",
          "text": [
            "nuevo parametro\n"
          ],
          "name": "stdout"
        }
      ]
    },
    {
      "cell_type": "code",
      "metadata": {
        "id": "2MRHJcX7DclO",
        "colab": {
          "base_uri": "https://localhost:8080/",
          "height": 34
        },
        "outputId": "bf1437c9-b3bf-4bd6-89ef-f42a641beed3"
      },
      "source": [
        "imprimir_en_pantalla(parametro1='otro parametro')"
      ],
      "execution_count": null,
      "outputs": [
        {
          "output_type": "stream",
          "text": [
            "otro parametro\n"
          ],
          "name": "stdout"
        }
      ]
    },
    {
      "cell_type": "code",
      "metadata": {
        "id": "6M-2n30_DclQ"
      },
      "source": [
        "def saludar(nombre):\n",
        "    print('Hola ' + nombre)"
      ],
      "execution_count": null,
      "outputs": []
    },
    {
      "cell_type": "code",
      "metadata": {
        "id": "ZGlveH2sDclR",
        "colab": {
          "base_uri": "https://localhost:8080/",
          "height": 34
        },
        "outputId": "f37ed4de-08ee-4020-e33a-e571f7f12282"
      },
      "source": [
        "saludar('UNAL')"
      ],
      "execution_count": null,
      "outputs": [
        {
          "output_type": "stream",
          "text": [
            "Hola UNAL\n"
          ],
          "name": "stdout"
        }
      ]
    },
    {
      "cell_type": "code",
      "metadata": {
        "id": "XONROccMDclR"
      },
      "source": [
        "def elevar_al_cuadrado(x):\n",
        "    return x**2"
      ],
      "execution_count": null,
      "outputs": []
    },
    {
      "cell_type": "code",
      "metadata": {
        "id": "hdGUQTgeDclS"
      },
      "source": [
        "out = elevar_al_cuadrado(2)"
      ],
      "execution_count": null,
      "outputs": []
    },
    {
      "cell_type": "code",
      "metadata": {
        "id": "QTNxENIFDclS",
        "colab": {
          "base_uri": "https://localhost:8080/",
          "height": 34
        },
        "outputId": "ac6e612a-f507-404e-92f5-4cc8bc3e949a"
      },
      "source": [
        "print(out)"
      ],
      "execution_count": null,
      "outputs": [
        {
          "output_type": "stream",
          "text": [
            "4\n"
          ],
          "name": "stdout"
        }
      ]
    },
    {
      "cell_type": "code",
      "metadata": {
        "id": "UA237qnZDclS"
      },
      "source": [
        "def elevar_al_cuadrado(x):\n",
        "    \"\"\"\n",
        "    Esta es la documentación de la función.\n",
        "    Puede tener múltiples líneas.\n",
        "    La función square retorna un número x elevado al cuadrado.\n",
        "    \"\"\"\n",
        "    return x**2"
      ],
      "execution_count": null,
      "outputs": []
    },
    {
      "cell_type": "code",
      "metadata": {
        "id": "s6zsuEILDclU"
      },
      "source": [
        "# Puedo ver la documentación con ?\n",
        "elevar_al_cuadrado?"
      ],
      "execution_count": null,
      "outputs": []
    },
    {
      "cell_type": "code",
      "metadata": {
        "id": "hjYvj3CCuKlh",
        "colab": {
          "base_uri": "https://localhost:8080/",
          "height": 163
        },
        "outputId": "da1eff6e-ed77-4c17-f5ca-e5c99dc96656"
      },
      "source": [
        "# También, cuando abro los paréntisis\n",
        "elevar_al_cuadrado()"
      ],
      "execution_count": null,
      "outputs": [
        {
          "output_type": "error",
          "ename": "TypeError",
          "evalue": "ignored",
          "traceback": [
            "\u001b[0;31m---------------------------------------------------------------------------\u001b[0m",
            "\u001b[0;31mTypeError\u001b[0m                                 Traceback (most recent call last)",
            "\u001b[0;32m<ipython-input-14-c1cb57479e66>\u001b[0m in \u001b[0;36m<module>\u001b[0;34m()\u001b[0m\n\u001b[0;32m----> 1\u001b[0;31m \u001b[0melevar_al_cuadrado\u001b[0m\u001b[0;34m(\u001b[0m\u001b[0;34m)\u001b[0m\u001b[0;34m\u001b[0m\u001b[0;34m\u001b[0m\u001b[0m\n\u001b[0m",
            "\u001b[0;31mTypeError\u001b[0m: elevar_al_cuadrado() missing 1 required positional argument: 'x'"
          ]
        }
      ]
    },
    {
      "cell_type": "markdown",
      "metadata": {
        "id": "bKhO4wX9Dck7"
      },
      "source": [
        "## range()\n",
        "\n",
        "Retorna una lista de elementos desde 0 y hasta el parámetro que se envíe dentro de los paréntesis."
      ]
    },
    {
      "cell_type": "code",
      "metadata": {
        "id": "eGh8JrArDclU",
        "colab": {
          "base_uri": "https://localhost:8080/",
          "height": 163
        },
        "outputId": "0de46116-7b2c-4729-9e9d-2c9e3690097a"
      },
      "source": [
        "# Ver documentación de otra función, por ejemplo: range\n",
        "range()"
      ],
      "execution_count": null,
      "outputs": [
        {
          "output_type": "error",
          "ename": "TypeError",
          "evalue": "ignored",
          "traceback": [
            "\u001b[0;31m---------------------------------------------------------------------------\u001b[0m",
            "\u001b[0;31mTypeError\u001b[0m                                 Traceback (most recent call last)",
            "\u001b[0;32m<ipython-input-16-5bcbe005bf48>\u001b[0m in \u001b[0;36m<module>\u001b[0;34m()\u001b[0m\n\u001b[0;32m----> 1\u001b[0;31m \u001b[0mrange\u001b[0m\u001b[0;34m(\u001b[0m\u001b[0;34m)\u001b[0m\u001b[0;34m\u001b[0m\u001b[0;34m\u001b[0m\u001b[0m\n\u001b[0m",
            "\u001b[0;31mTypeError\u001b[0m: range expected 1 arguments, got 0"
          ]
        }
      ]
    },
    {
      "cell_type": "code",
      "metadata": {
        "id": "J96OO9K7wuIp",
        "colab": {
          "base_uri": "https://localhost:8080/",
          "height": 34
        },
        "outputId": "894ed027-9d4b-4c51-f6cc-e5ef5249af2b"
      },
      "source": [
        "range(10)"
      ],
      "execution_count": null,
      "outputs": [
        {
          "output_type": "execute_result",
          "data": {
            "text/plain": [
              "range(0, 10)"
            ]
          },
          "metadata": {
            "tags": []
          },
          "execution_count": 4
        }
      ]
    },
    {
      "cell_type": "code",
      "metadata": {
        "id": "ZEJuVF6IwuIq",
        "colab": {
          "base_uri": "https://localhost:8080/",
          "height": 34
        },
        "outputId": "10d215d9-53fa-4111-82a9-9b2efe680a99"
      },
      "source": [
        "list(range(10))"
      ],
      "execution_count": null,
      "outputs": [
        {
          "output_type": "execute_result",
          "data": {
            "text/plain": [
              "[0, 1, 2, 3, 4, 5, 6, 7, 8, 9]"
            ]
          },
          "metadata": {
            "tags": []
          },
          "execution_count": 5
        }
      ]
    },
    {
      "cell_type": "code",
      "metadata": {
        "id": "4u9vgP7bwuIq",
        "colab": {
          "base_uri": "https://localhost:8080/",
          "height": 34
        },
        "outputId": "5c517710-c5de-491d-e34b-7164f5e9e5f6"
      },
      "source": [
        "list(range(10,20,2))"
      ],
      "execution_count": null,
      "outputs": [
        {
          "output_type": "execute_result",
          "data": {
            "text/plain": [
              "[10, 12, 14, 16, 18]"
            ]
          },
          "metadata": {
            "tags": []
          },
          "execution_count": 6
        }
      ]
    },
    {
      "cell_type": "code",
      "metadata": {
        "id": "4GPstSp_Dck8",
        "colab": {
          "base_uri": "https://localhost:8080/",
          "height": 34
        },
        "outputId": "ca71d469-b1cb-476f-e5db-83c1b63c68a9"
      },
      "source": [
        "range(5)"
      ],
      "execution_count": null,
      "outputs": [
        {
          "output_type": "execute_result",
          "data": {
            "text/plain": [
              "range(0, 5)"
            ]
          },
          "metadata": {
            "tags": []
          },
          "execution_count": 7
        }
      ]
    },
    {
      "cell_type": "code",
      "metadata": {
        "id": "c_q6UGYGDck-",
        "colab": {
          "base_uri": "https://localhost:8080/",
          "height": 34
        },
        "outputId": "24d034c5-5a86-4ebd-c184-1677795f9cc9"
      },
      "source": [
        "list(range(5))"
      ],
      "execution_count": null,
      "outputs": [
        {
          "output_type": "execute_result",
          "data": {
            "text/plain": [
              "[0, 1, 2, 3, 4]"
            ]
          },
          "metadata": {
            "tags": []
          },
          "execution_count": 8
        }
      ]
    },
    {
      "cell_type": "code",
      "metadata": {
        "id": "tqLFs4r7Dck8",
        "colab": {
          "base_uri": "https://localhost:8080/",
          "height": 187
        },
        "outputId": "adb9fede-bfff-472d-8f1e-833deed157fd"
      },
      "source": [
        "for i in range(10):\n",
        "    print(i)"
      ],
      "execution_count": null,
      "outputs": [
        {
          "output_type": "stream",
          "text": [
            "0\n",
            "1\n",
            "2\n",
            "3\n",
            "4\n",
            "5\n",
            "6\n",
            "7\n",
            "8\n",
            "9\n"
          ],
          "name": "stdout"
        }
      ]
    },
    {
      "cell_type": "markdown",
      "metadata": {
        "id": "mG476TcMu7uP"
      },
      "source": [
        "## Fecha\n",
        "\n",
        "Python también permite operar con tipos de datos fecha 'date', de manera simple y eficaz."
      ]
    },
    {
      "cell_type": "code",
      "metadata": {
        "id": "6zXnc9SbDckp"
      },
      "source": [
        "from datetime import datetime"
      ],
      "execution_count": null,
      "outputs": []
    },
    {
      "cell_type": "code",
      "metadata": {
        "id": "aT67wftEDckq"
      },
      "source": [
        "now = datetime.now()"
      ],
      "execution_count": null,
      "outputs": []
    },
    {
      "cell_type": "code",
      "metadata": {
        "id": "cXqhoVuPDckr",
        "colab": {
          "base_uri": "https://localhost:8080/",
          "height": 34
        },
        "outputId": "e1a50ac8-5853-4b63-a2e4-8d9462972efe"
      },
      "source": [
        "now"
      ],
      "execution_count": null,
      "outputs": [
        {
          "output_type": "execute_result",
          "data": {
            "text/plain": [
              "datetime.datetime(2020, 2, 20, 1, 33, 19, 424283)"
            ]
          },
          "metadata": {
            "tags": []
          },
          "execution_count": 25
        }
      ]
    },
    {
      "cell_type": "code",
      "metadata": {
        "id": "BTsVAjC5Dckr",
        "colab": {
          "base_uri": "https://localhost:8080/",
          "height": 34
        },
        "outputId": "1005846e-19a7-4b49-da41-588322bc93e4"
      },
      "source": [
        "now.year"
      ],
      "execution_count": null,
      "outputs": [
        {
          "output_type": "execute_result",
          "data": {
            "text/plain": [
              "2020"
            ]
          },
          "metadata": {
            "tags": []
          },
          "execution_count": 26
        }
      ]
    },
    {
      "cell_type": "code",
      "metadata": {
        "id": "u1OAawmvDcks",
        "colab": {
          "base_uri": "https://localhost:8080/",
          "height": 34
        },
        "outputId": "d728ce37-9179-481d-bbb6-08d6cafb4b1c"
      },
      "source": [
        "now.month"
      ],
      "execution_count": null,
      "outputs": [
        {
          "output_type": "execute_result",
          "data": {
            "text/plain": [
              "2"
            ]
          },
          "metadata": {
            "tags": []
          },
          "execution_count": 27
        }
      ]
    },
    {
      "cell_type": "code",
      "metadata": {
        "id": "Ys0uLDj2Dckt",
        "colab": {
          "base_uri": "https://localhost:8080/",
          "height": 34
        },
        "outputId": "accde004-8d34-4b05-c610-8923cee770ac"
      },
      "source": [
        "now.day"
      ],
      "execution_count": null,
      "outputs": [
        {
          "output_type": "execute_result",
          "data": {
            "text/plain": [
              "20"
            ]
          },
          "metadata": {
            "tags": []
          },
          "execution_count": 28
        }
      ]
    },
    {
      "cell_type": "code",
      "metadata": {
        "id": "_6hP8aqXDcku",
        "colab": {
          "base_uri": "https://localhost:8080/",
          "height": 34
        },
        "outputId": "ec677946-00e6-4a65-bbca-5266f30e6d4b"
      },
      "source": [
        "print ('Fecha: %s/%02d/%02d \\tHora: %s:%s' % (now.day, now.month, now.year, now.hour, now.minute))"
      ],
      "execution_count": null,
      "outputs": [
        {
          "output_type": "stream",
          "text": [
            "Fecha: 20/02/2020 \tHora: 1:33\n"
          ],
          "name": "stdout"
        }
      ]
    },
    {
      "cell_type": "markdown",
      "metadata": {
        "id": "l3ADqfeiClFb"
      },
      "source": [
        "Para obtener el año de una fecha sin las cifras del centenio"
      ]
    },
    {
      "cell_type": "code",
      "metadata": {
        "id": "X_VCHFoUCj0r",
        "colab": {
          "base_uri": "https://localhost:8080/",
          "height": 34
        },
        "outputId": "f0a28755-8cb7-4972-84f6-9d19418e55d0"
      },
      "source": [
        "anno_sin_centenio = now.strftime(\"%y\")\n",
        "print(anno_sin_centenio)"
      ],
      "execution_count": null,
      "outputs": [
        {
          "output_type": "stream",
          "text": [
            "20\n"
          ],
          "name": "stdout"
        }
      ]
    },
    {
      "cell_type": "markdown",
      "metadata": {
        "id": "CATEgOIiDclA"
      },
      "source": [
        "## Listas por comprensión (list comprehension)"
      ]
    },
    {
      "cell_type": "code",
      "metadata": {
        "id": "fVXt9hgYDclA"
      },
      "source": [
        "x = [1, 2, 3, 4, 5, 6]"
      ],
      "execution_count": null,
      "outputs": []
    },
    {
      "cell_type": "code",
      "metadata": {
        "id": "R7f8oFmYDclB",
        "colab": {
          "base_uri": "https://localhost:8080/",
          "height": 34
        },
        "outputId": "8cee82e3-b144-4ab7-e526-e332178ad707"
      },
      "source": [
        "out = []\n",
        "for item in x:\n",
        "    out.append(item**2)\n",
        "print(out)"
      ],
      "execution_count": null,
      "outputs": [
        {
          "output_type": "stream",
          "text": [
            "[1, 4, 9, 16, 25, 36]\n"
          ],
          "name": "stdout"
        }
      ]
    },
    {
      "cell_type": "code",
      "metadata": {
        "id": "-PiWerzNDclD",
        "colab": {
          "base_uri": "https://localhost:8080/",
          "height": 34
        },
        "outputId": "012fb228-fbcc-45f6-b8ee-0f5448485985"
      },
      "source": [
        "[item**2 for item in x]"
      ],
      "execution_count": null,
      "outputs": [
        {
          "output_type": "execute_result",
          "data": {
            "text/plain": [
              "[1, 4, 9, 16, 25, 36]"
            ]
          },
          "metadata": {
            "tags": []
          },
          "execution_count": 5
        }
      ]
    },
    {
      "cell_type": "code",
      "metadata": {
        "id": "2cOX014-DclE"
      },
      "source": [
        "out = [item**2 for item in x]"
      ],
      "execution_count": null,
      "outputs": []
    },
    {
      "cell_type": "code",
      "metadata": {
        "id": "ZA4Z9Zx0DclF",
        "colab": {
          "base_uri": "https://localhost:8080/",
          "height": 34
        },
        "outputId": "92cc061d-4382-4175-803d-cef041babaa0"
      },
      "source": [
        "out"
      ],
      "execution_count": null,
      "outputs": [
        {
          "output_type": "execute_result",
          "data": {
            "text/plain": [
              "[1, 4, 9, 16, 25, 36]"
            ]
          },
          "metadata": {
            "tags": []
          },
          "execution_count": 35
        }
      ]
    },
    {
      "cell_type": "code",
      "metadata": {
        "id": "6-Lse_l8DclH"
      },
      "source": [
        "cubos = [xq ** 3 for xq in range(10)]"
      ],
      "execution_count": null,
      "outputs": []
    },
    {
      "cell_type": "code",
      "metadata": {
        "id": "KGE8PsYODclH",
        "colab": {
          "base_uri": "https://localhost:8080/",
          "height": 34
        },
        "outputId": "3588de9a-9321-4d92-a801-170db186c181"
      },
      "source": [
        "cubos"
      ],
      "execution_count": null,
      "outputs": [
        {
          "output_type": "execute_result",
          "data": {
            "text/plain": [
              "[0, 1, 8, 27, 64, 125, 216, 343, 512, 729]"
            ]
          },
          "metadata": {
            "tags": []
          },
          "execution_count": 37
        }
      ]
    },
    {
      "cell_type": "code",
      "metadata": {
        "id": "S63GTvr3DclI"
      },
      "source": [
        "multiplos_tres_o_cinco = [x for x in range(1, 16) if x % 3 == 0 or x % 5 == 0]"
      ],
      "execution_count": null,
      "outputs": []
    },
    {
      "cell_type": "code",
      "metadata": {
        "id": "Wo7NJ6T7DclK",
        "colab": {
          "base_uri": "https://localhost:8080/",
          "height": 34
        },
        "outputId": "386c2aea-3e29-4b28-e619-056d7a36d727"
      },
      "source": [
        "multiplos_tres_o_cinco"
      ],
      "execution_count": null,
      "outputs": [
        {
          "output_type": "execute_result",
          "data": {
            "text/plain": [
              "[3, 5, 6, 9, 10, 12, 15]"
            ]
          },
          "metadata": {
            "tags": []
          },
          "execution_count": 7
        }
      ]
    },
    {
      "cell_type": "code",
      "metadata": {
        "id": "sUcGiIeNQXqf"
      },
      "source": [
        "multiplos_tres_o_cinco = [x for x in range(1, 16) if x % 3 == 0 and x % 5 == 0]"
      ],
      "execution_count": null,
      "outputs": []
    },
    {
      "cell_type": "code",
      "metadata": {
        "id": "X7yTTVkWQdQV",
        "colab": {
          "base_uri": "https://localhost:8080/",
          "height": 34
        },
        "outputId": "d4a8e672-4066-4bfb-93c8-95df544d96d9"
      },
      "source": [
        "multiplos_tres_o_cinco"
      ],
      "execution_count": null,
      "outputs": [
        {
          "output_type": "execute_result",
          "data": {
            "text/plain": [
              "[15]"
            ]
          },
          "metadata": {
            "tags": []
          },
          "execution_count": 41
        }
      ]
    },
    {
      "cell_type": "markdown",
      "metadata": {
        "id": "A9hagHupDclY"
      },
      "source": [
        "## Expresiones lambda\n",
        "\n",
        "Para crear funciones de manera rápida **just in time**, como por ejemplo para la definición de prototipos. \n"
      ]
    },
    {
      "cell_type": "code",
      "metadata": {
        "id": "JZz94MI7DclY"
      },
      "source": [
        "def duplicar(var):\n",
        "    return var*2"
      ],
      "execution_count": null,
      "outputs": []
    },
    {
      "cell_type": "code",
      "metadata": {
        "id": "XZYziVaWDclZ",
        "colab": {
          "base_uri": "https://localhost:8080/",
          "height": 34
        },
        "outputId": "ae3371e9-af57-438e-9da1-0ad273237491"
      },
      "source": [
        "duplicar(100)"
      ],
      "execution_count": null,
      "outputs": [
        {
          "output_type": "execute_result",
          "data": {
            "text/plain": [
              "200"
            ]
          },
          "metadata": {
            "tags": []
          },
          "execution_count": 43
        }
      ]
    },
    {
      "cell_type": "code",
      "metadata": {
        "id": "bE_g14fpDclZ",
        "colab": {
          "base_uri": "https://localhost:8080/",
          "height": 34
        },
        "outputId": "4e9f8e13-58ee-4a1b-8e5d-50bd8ba59705"
      },
      "source": [
        "lambda var: var*2"
      ],
      "execution_count": null,
      "outputs": [
        {
          "output_type": "execute_result",
          "data": {
            "text/plain": [
              "<function __main__.<lambda>>"
            ]
          },
          "metadata": {
            "tags": []
          },
          "execution_count": 44
        }
      ]
    },
    {
      "cell_type": "code",
      "metadata": {
        "id": "HbhiD8ZZDcla"
      },
      "source": [
        "t = lambda var: var*2"
      ],
      "execution_count": null,
      "outputs": []
    },
    {
      "cell_type": "code",
      "metadata": {
        "id": "NNJwxoabDcla",
        "colab": {
          "base_uri": "https://localhost:8080/",
          "height": 34
        },
        "outputId": "610d7883-d6ac-4192-f8d8-fdff0edf1a5f"
      },
      "source": [
        "t(100)"
      ],
      "execution_count": null,
      "outputs": [
        {
          "output_type": "execute_result",
          "data": {
            "text/plain": [
              "200"
            ]
          },
          "metadata": {
            "tags": []
          },
          "execution_count": 46
        }
      ]
    },
    {
      "cell_type": "code",
      "metadata": {
        "id": "IMJd2h2mwuIw"
      },
      "source": [
        "otra = lambda var1, var2: (var1 + var2)**2"
      ],
      "execution_count": null,
      "outputs": []
    },
    {
      "cell_type": "code",
      "metadata": {
        "id": "JX7cWHfpwuIx",
        "colab": {
          "base_uri": "https://localhost:8080/",
          "height": 34
        },
        "outputId": "399be94e-a47f-4e39-9b20-504b87553610"
      },
      "source": [
        "otra(2, 3)"
      ],
      "execution_count": null,
      "outputs": [
        {
          "output_type": "execute_result",
          "data": {
            "text/plain": [
              "25"
            ]
          },
          "metadata": {
            "tags": []
          },
          "execution_count": 48
        }
      ]
    },
    {
      "cell_type": "markdown",
      "metadata": {
        "id": "Z68hUiuiDclc"
      },
      "source": [
        "## map y filter\n",
        "\n",
        "El operador **map**, toma una función y una secuencia como  argumentos, y devuelve una secuencia con  la función aplicada a cada elemento. \n",
        "\n",
        "El operado **filter**, ofrece una forma de filtrar todos los elementos de una lista."
      ]
    },
    {
      "cell_type": "code",
      "metadata": {
        "id": "mmiYT-dzDclc"
      },
      "source": [
        "seq = list(range(16))"
      ],
      "execution_count": null,
      "outputs": []
    },
    {
      "cell_type": "code",
      "metadata": {
        "id": "cGhV2qZDxdKm",
        "colab": {
          "base_uri": "https://localhost:8080/",
          "height": 34
        },
        "outputId": "4e3d11a1-1b32-43b8-e1c5-dd620da8c9fc"
      },
      "source": [
        "seq"
      ],
      "execution_count": null,
      "outputs": [
        {
          "output_type": "execute_result",
          "data": {
            "text/plain": [
              "[0, 1, 2, 3, 4, 5, 6, 7, 8, 9, 10, 11, 12, 13, 14, 15]"
            ]
          },
          "metadata": {
            "tags": []
          },
          "execution_count": 50
        }
      ]
    },
    {
      "cell_type": "code",
      "metadata": {
        "id": "XzKrjhqKDcle",
        "colab": {
          "base_uri": "https://localhost:8080/",
          "height": 34
        },
        "outputId": "0f217589-0b33-4ac0-9331-b1cb02bb80c8"
      },
      "source": [
        "map(duplicar, seq)"
      ],
      "execution_count": null,
      "outputs": [
        {
          "output_type": "execute_result",
          "data": {
            "text/plain": [
              "<map at 0x7f29838cac88>"
            ]
          },
          "metadata": {
            "tags": []
          },
          "execution_count": 51
        }
      ]
    },
    {
      "cell_type": "code",
      "metadata": {
        "id": "G-ogw60uDclf",
        "colab": {
          "base_uri": "https://localhost:8080/",
          "height": 34
        },
        "outputId": "174454dc-891f-4a89-8ac6-46ba5e2dbde1"
      },
      "source": [
        "list(map(duplicar, seq))"
      ],
      "execution_count": null,
      "outputs": [
        {
          "output_type": "execute_result",
          "data": {
            "text/plain": [
              "[0, 2, 4, 6, 8, 10, 12, 14, 16, 18, 20, 22, 24, 26, 28, 30]"
            ]
          },
          "metadata": {
            "tags": []
          },
          "execution_count": 52
        }
      ]
    },
    {
      "cell_type": "code",
      "metadata": {
        "id": "CS8AOZDYDclf",
        "colab": {
          "base_uri": "https://localhost:8080/",
          "height": 34
        },
        "outputId": "49735685-ef81-493d-c6ca-54049da8d431"
      },
      "source": [
        "list(map(lambda var: var*3, seq))"
      ],
      "execution_count": null,
      "outputs": [
        {
          "output_type": "execute_result",
          "data": {
            "text/plain": [
              "[0, 3, 6, 9, 12, 15, 18, 21, 24, 27, 30, 33, 36, 39, 42, 45]"
            ]
          },
          "metadata": {
            "tags": []
          },
          "execution_count": 53
        }
      ]
    },
    {
      "cell_type": "code",
      "metadata": {
        "id": "tCO6ahN1Dclg",
        "colab": {
          "base_uri": "https://localhost:8080/",
          "height": 34
        },
        "outputId": "4d803c7f-0ec8-4726-c3bd-2224ea5ae8df"
      },
      "source": [
        "filter(lambda item: item%2 == 0, seq)"
      ],
      "execution_count": null,
      "outputs": [
        {
          "output_type": "execute_result",
          "data": {
            "text/plain": [
              "<filter at 0x7f29838cafd0>"
            ]
          },
          "metadata": {
            "tags": []
          },
          "execution_count": 54
        }
      ]
    },
    {
      "cell_type": "code",
      "metadata": {
        "id": "VmxhyL6YDclh",
        "colab": {
          "base_uri": "https://localhost:8080/",
          "height": 34
        },
        "outputId": "a6713077-c8d3-4b71-92a3-94eb922b84df"
      },
      "source": [
        "list(filter(lambda item: item % 2 == 0, seq))"
      ],
      "execution_count": null,
      "outputs": [
        {
          "output_type": "execute_result",
          "data": {
            "text/plain": [
              "[0, 2, 4, 6, 8, 10, 12, 14]"
            ]
          },
          "metadata": {
            "tags": []
          },
          "execution_count": 55
        }
      ]
    },
    {
      "cell_type": "code",
      "metadata": {
        "id": "wswTiRk9Dclk",
        "colab": {
          "base_uri": "https://localhost:8080/",
          "height": 34
        },
        "outputId": "b08afcc2-a89a-4d27-c3d3-5236e839b053"
      },
      "source": [
        "list(filter(lambda x: x % 3 == 0, seq))"
      ],
      "execution_count": null,
      "outputs": [
        {
          "output_type": "execute_result",
          "data": {
            "text/plain": [
              "[0, 3, 6, 9, 12, 15]"
            ]
          },
          "metadata": {
            "tags": []
          },
          "execution_count": 56
        }
      ]
    },
    {
      "cell_type": "code",
      "metadata": {
        "id": "Lip8yWwxDclk",
        "colab": {
          "base_uri": "https://localhost:8080/",
          "height": 34
        },
        "outputId": "94b71029-7e58-49be-f114-0b9a5600a3d5"
      },
      "source": [
        "oculto = \"SXXXoXXyX XoXXtXrXXoXXX XmXeXXnXXXsXXXaXjXeXXXX XXXXXoXcXXXXuXXXlXtXXXXXXoXX!XX\"\n",
        "\n",
        "mensaje = filter(lambda x: x != \"X\", oculto)\n",
        "#print(mensaje)\n",
        "#print(list(mensaje))\n",
        "print(''.join(mensaje))"
      ],
      "execution_count": null,
      "outputs": [
        {
          "output_type": "stream",
          "text": [
            "Soy otro mensaje oculto!\n"
          ],
          "name": "stdout"
        }
      ]
    },
    {
      "cell_type": "markdown",
      "metadata": {
        "id": "xMH3l8h5Dcll"
      },
      "source": [
        "## Métodos Python para cadenas\n",
        "\n",
        "Python viene por defecto con bastantes funciones útiles para manejo de datos.\n",
        "\n",
        "A continuación veremos algunas de ellas."
      ]
    },
    {
      "cell_type": "code",
      "metadata": {
        "id": "b9Yog5hVDcll"
      },
      "source": [
        "st = 'HOLA! mi nombre es UNAL'"
      ],
      "execution_count": null,
      "outputs": []
    },
    {
      "cell_type": "code",
      "metadata": {
        "id": "yFzv0m9NDcll",
        "colab": {
          "base_uri": "https://localhost:8080/",
          "height": 34
        },
        "outputId": "13e83512-0f71-4884-9be3-b3cde038ee96"
      },
      "source": [
        "st.lower()"
      ],
      "execution_count": null,
      "outputs": [
        {
          "output_type": "execute_result",
          "data": {
            "text/plain": [
              "'hola! mi nombre es unal'"
            ]
          },
          "metadata": {
            "tags": []
          },
          "execution_count": 61
        }
      ]
    },
    {
      "cell_type": "code",
      "metadata": {
        "id": "gwf9B3_BDcll",
        "colab": {
          "base_uri": "https://localhost:8080/",
          "height": 34
        },
        "outputId": "d5b8863e-05d0-4d49-d88a-9fc1840bf691"
      },
      "source": [
        "st.upper()"
      ],
      "execution_count": null,
      "outputs": [
        {
          "output_type": "execute_result",
          "data": {
            "text/plain": [
              "'HOLA! MI NOMBRE ES UNAL'"
            ]
          },
          "metadata": {
            "tags": []
          },
          "execution_count": 62
        }
      ]
    },
    {
      "cell_type": "code",
      "metadata": {
        "id": "EWQeveqADclm",
        "colab": {
          "base_uri": "https://localhost:8080/",
          "height": 34
        },
        "outputId": "4f8f9943-937c-494e-8c46-4d49f35f60b2"
      },
      "source": [
        "st.split()"
      ],
      "execution_count": null,
      "outputs": [
        {
          "output_type": "execute_result",
          "data": {
            "text/plain": [
              "['HOLA!', 'mi', 'nombre', 'es', 'UNAL']"
            ]
          },
          "metadata": {
            "tags": []
          },
          "execution_count": 63
        }
      ]
    },
    {
      "cell_type": "code",
      "metadata": {
        "id": "__P7kfaxDclm"
      },
      "source": [
        "tweet = 'Curso AVD Python! #MejorCurso'"
      ],
      "execution_count": null,
      "outputs": []
    },
    {
      "cell_type": "code",
      "metadata": {
        "id": "gpobfonTDcln",
        "colab": {
          "base_uri": "https://localhost:8080/",
          "height": 34
        },
        "outputId": "9fd68b6d-b2c6-4fc2-b44f-eccd1803be93"
      },
      "source": [
        "tweet.split()"
      ],
      "execution_count": null,
      "outputs": [
        {
          "output_type": "execute_result",
          "data": {
            "text/plain": [
              "['Curso', 'AVD', 'Python!', '#MejorCurso']"
            ]
          },
          "metadata": {
            "tags": []
          },
          "execution_count": 66
        }
      ]
    },
    {
      "cell_type": "code",
      "metadata": {
        "id": "AlC4gqSeDclp",
        "colab": {
          "base_uri": "https://localhost:8080/",
          "height": 34
        },
        "outputId": "b1dad302-ba11-4264-fd8c-ec5a511cf2bd"
      },
      "source": [
        "tweet.split('#')"
      ],
      "execution_count": null,
      "outputs": [
        {
          "output_type": "execute_result",
          "data": {
            "text/plain": [
              "['Curso AVD Python! ', 'MejorCurso']"
            ]
          },
          "metadata": {
            "tags": []
          },
          "execution_count": 67
        }
      ]
    },
    {
      "cell_type": "code",
      "metadata": {
        "id": "Q-CE4dkLDclp",
        "colab": {
          "base_uri": "https://localhost:8080/",
          "height": 34
        },
        "outputId": "a1a71f48-0d5f-4143-ffe7-1eb02cf496ca"
      },
      "source": [
        "tweet.split('#')[1]"
      ],
      "execution_count": null,
      "outputs": [
        {
          "output_type": "execute_result",
          "data": {
            "text/plain": [
              "'MejorCurso'"
            ]
          },
          "metadata": {
            "tags": []
          },
          "execution_count": 68
        }
      ]
    },
    {
      "cell_type": "markdown",
      "metadata": {
        "id": "532PDWgB0psC"
      },
      "source": [
        "## 'Tuple unpacking'"
      ]
    },
    {
      "cell_type": "code",
      "metadata": {
        "id": "GlcDj_bHDcl2"
      },
      "source": [
        "lst = [(1, 2), (3, 4), (5, 6)]"
      ],
      "execution_count": null,
      "outputs": []
    },
    {
      "cell_type": "code",
      "metadata": {
        "id": "XmU6QzEjDcl2",
        "colab": {
          "base_uri": "https://localhost:8080/",
          "height": 34
        },
        "outputId": "e81ed61f-d578-4f53-f4c3-4995c9b188f2"
      },
      "source": [
        "lst"
      ],
      "execution_count": null,
      "outputs": [
        {
          "output_type": "execute_result",
          "data": {
            "text/plain": [
              "[(1, 2), (3, 4), (5, 6)]"
            ]
          },
          "metadata": {
            "tags": []
          },
          "execution_count": 70
        }
      ]
    },
    {
      "cell_type": "code",
      "metadata": {
        "id": "p8qqIm_4Dcl2",
        "colab": {
          "base_uri": "https://localhost:8080/",
          "height": 68
        },
        "outputId": "7326f4ba-1457-4ec1-d2b0-6da3ca920e4b"
      },
      "source": [
        "for tupla in lst:\n",
        "    print(tupla)"
      ],
      "execution_count": null,
      "outputs": [
        {
          "output_type": "stream",
          "text": [
            "(1, 2)\n",
            "(3, 4)\n",
            "(5, 6)\n"
          ],
          "name": "stdout"
        }
      ]
    },
    {
      "cell_type": "code",
      "metadata": {
        "id": "uuq_QEWADcl3",
        "colab": {
          "base_uri": "https://localhost:8080/",
          "height": 68
        },
        "outputId": "de03cc1e-62d7-44ef-ac2a-412632aed8ae"
      },
      "source": [
        "for (a, b) in lst:\n",
        "    print(a)"
      ],
      "execution_count": null,
      "outputs": [
        {
          "output_type": "stream",
          "text": [
            "1\n",
            "3\n",
            "5\n"
          ],
          "name": "stdout"
        }
      ]
    },
    {
      "cell_type": "code",
      "metadata": {
        "id": "HYmNZec7Dcl3",
        "colab": {
          "base_uri": "https://localhost:8080/",
          "height": 68
        },
        "outputId": "c4476265-c29f-46ec-caf7-73982a0d9250"
      },
      "source": [
        "for (a, b) in lst:\n",
        "    print('{} está asociado con {}'.format(a,b))"
      ],
      "execution_count": null,
      "outputs": [
        {
          "output_type": "stream",
          "text": [
            "1 está asociado con 2\n",
            "3 está asociado con 4\n",
            "5 está asociado con 6\n"
          ],
          "name": "stdout"
        }
      ]
    },
    {
      "cell_type": "code",
      "metadata": {
        "id": "qOwO-InzDcl4",
        "colab": {
          "base_uri": "https://localhost:8080/",
          "height": 68
        },
        "outputId": "f8c11385-0cd3-47ed-8492-4b4b225ca9a5"
      },
      "source": [
        "# los paréntesis son opcionales\n",
        "for a, b in lst:\n",
        "    print('{} está asociado con {}'.format(a,b))"
      ],
      "execution_count": null,
      "outputs": [
        {
          "output_type": "stream",
          "text": [
            "1 está asociado con 2\n",
            "3 está asociado con 4\n",
            "5 está asociado con 6\n"
          ],
          "name": "stdout"
        }
      ]
    },
    {
      "cell_type": "code",
      "metadata": {
        "id": "heCvSp4HUlA4"
      },
      "source": [
        "x,y,z=[1,2,3],1000,\"Ya casi termianos hoy\""
      ],
      "execution_count": null,
      "outputs": []
    },
    {
      "cell_type": "code",
      "metadata": {
        "id": "6-QrH3mMUxMT",
        "colab": {
          "base_uri": "https://localhost:8080/",
          "height": 34
        },
        "outputId": "45c919a7-3cff-404e-9e0d-37c012cf57dd"
      },
      "source": [
        "x"
      ],
      "execution_count": null,
      "outputs": [
        {
          "output_type": "execute_result",
          "data": {
            "text/plain": [
              "[1, 2, 3]"
            ]
          },
          "metadata": {
            "tags": []
          },
          "execution_count": 76
        }
      ]
    },
    {
      "cell_type": "markdown",
      "metadata": {
        "id": "e0I1us8AtyVp"
      },
      "source": [
        "# Quiz Python"
      ]
    },
    {
      "cell_type": "code",
      "metadata": {
        "id": "roR3OZHOUyy1",
        "colab": {
          "base_uri": "https://localhost:8080/",
          "height": 34
        },
        "outputId": "573b18bb-e134-4a39-f18d-b258475e45ae"
      },
      "source": [
        "y"
      ],
      "execution_count": null,
      "outputs": [
        {
          "output_type": "execute_result",
          "data": {
            "text/plain": [
              "1000"
            ]
          },
          "metadata": {
            "tags": []
          },
          "execution_count": 77
        }
      ]
    },
    {
      "cell_type": "markdown",
      "metadata": {
        "id": "P5gjuBL2uwQ5"
      },
      "source": [
        "Genere una lista con los primeros 4 elementos de la serie geométrica \n",
        "\n",
        "$$ s_n = \\frac{1}{2^{n+1}}, n=\\{0,1,2,3\\} $$\n",
        "$$ s_n = \\sum_{n=0}^{4} \\frac{1}{2^{n+1}} = \\frac{1}{2} + \\frac{1}{4} + \\frac{1}{8} + \\frac{1}{16} = 0.9375$$"
      ]
    },
    {
      "cell_type": "code",
      "metadata": {
        "id": "l-B4sO7IUz0e",
        "colab": {
          "base_uri": "https://localhost:8080/",
          "height": 34
        },
        "outputId": "b607d994-57d1-4316-f050-01a3b16ceeff"
      },
      "source": [
        "z"
      ],
      "execution_count": null,
      "outputs": [
        {
          "output_type": "execute_result",
          "data": {
            "text/plain": [
              "'Ya casi termianos hoy'"
            ]
          },
          "metadata": {
            "tags": []
          },
          "execution_count": 78
        }
      ]
    },
    {
      "cell_type": "markdown",
      "metadata": {
        "id": "A2blUud1MoA-"
      },
      "source": [
        "Modifique la función gen_serie() para que retorne los primeros 4 elementos de la serie."
      ]
    },
    {
      "cell_type": "code",
      "metadata": {
        "id": "GVoibZrHFpLN"
      },
      "source": [
        "def gen_serie():\n",
        "  \"\"\"\n",
        "  Retorna:\n",
        "     Lista con los primeros 4 elementos de la serie\n",
        "  \"\"\"\n",
        "  # En la siguiente línea genere la lista l con los primeros 4 elementos requeridos.\n",
        "  l = #ESCRIBA SU CÓDIGO AQUÍ (1 línea)\n",
        "  return l\n",
        "  \n"
      ],
      "execution_count": null,
      "outputs": []
    },
    {
      "cell_type": "code",
      "metadata": {
        "id": "Ma9eUJUjFZCq"
      },
      "source": [
        "# Use esta celda para verificar que su solución sea correcta\n",
        "\n",
        "import numpy as np\n",
        "\n",
        "def test_gen_serie():\n",
        "  try:\n",
        "    serie = gen_serie()\n",
        "    serie = np.asarray(serie)\n",
        "  except:\n",
        "    raise Exception(\"Ocurrió un error en la función. Por favor, verifique nuevamente ;)\")\n",
        "  #Validar la respuesta\n",
        "  if np.abs(serie.sum()-0.9375) > 0.1:\n",
        "    raise Exception(\"El cálculo de los primeros 4 elementos no es correcto. Por favor, revise el tema de listas por comprensión ;)\")\n",
        "  return True\n",
        "\n",
        "if test_gen_serie():\n",
        "  print(\"Felicitaciones! El cálculo es correcto.\")"
      ],
      "execution_count": null,
      "outputs": []
    }
  ]
}